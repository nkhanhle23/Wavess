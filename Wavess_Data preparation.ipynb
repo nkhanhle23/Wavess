{
 "cells": [
  {
   "cell_type": "code",
   "execution_count": 200,
   "metadata": {},
   "outputs": [],
   "source": [
    "import json\n",
    "import pandas as pd\n",
    "import openpyxl\n",
    "\n",
    "# Read the json file    \n",
    "path = ['data/wolt_tweet.json','data/food_tweets_all.json']\n",
    "      \n",
    "data = []\n",
    "for i in path:\n",
    "    with open(i, 'r') as f:\n",
    "        for line in f:\n",
    "            obj = json.loads(line)\n",
    "            data.append(obj)  \n",
    "\n"
   ]
  },
  {
   "cell_type": "code",
   "execution_count": null,
   "metadata": {},
   "outputs": [],
   "source": []
  },
  {
   "cell_type": "code",
   "execution_count": 184,
   "metadata": {},
   "outputs": [],
   "source": [
    "  #,'data/food_tweets_all.json',\n",
    "        #'data/dataset_04_08.json']\n",
    "        \n",
    "        #    ,'data/dataset_04_08_props.json',\n",
    "        #'data/03_20_2023_to_03_22_2023_food.json','data/03_22_2023_to_03_23_2023_hash_food_en.json',\n",
    "     #   'data/03_22_2023_to_03_24_2023_hash_food_en.json','data/03_22_2023_to_03_24_2023_hash_foodie_en.json',\n",
    "      #  'data/03_22_2023_to_03_24_2023_lunch_en.json','data/03_22_2023_to_03_24_2023_recipe_foodie_en.json',\n",
    "       # 'data/03_23_2023_to_03_24_2023_hash_food_en.json','data/03_24_2023_to_03_26_2023_hash_food_en.json',\n",
    "        #'data/03_26_2023_to_03_28_2023_hash_all_food_en.json','data/04_01_2023_to_04_03_2023_hash_food_all_en.json']'''"
   ]
  },
  {
   "cell_type": "code",
   "execution_count": 201,
   "metadata": {},
   "outputs": [
    {
     "name": "stdout",
     "output_type": "stream",
     "text": [
      "The tweet is: @mikapleskinen @pizzahut Hi Mika!\n",
      "\n",
      "My apologies for the delivery damage 🥺\n",
      "\n",
      "You can contact us via customer service chat or support@wolt.com if you wish us to take a closer look at the situation.\n",
      "\n",
      "Hopefully everything goes a bit smoother the next time! \n",
      "\n",
      "Have a lovely evening! 💙\n",
      "Public metrics of the tweet: {'retweet_count': 0, 'reply_count': 0, 'like_count': 0, 'quote_count': 0, 'impression_count': 31}\n",
      "74759\n"
     ]
    }
   ],
   "source": [
    "tweet = []\n",
    "for i in range(0, len(data)): # run through 33 datasets\n",
    "    for j in range(0, len(data[i][\"data\"])): # each data has 100 data points\n",
    "        text = data[i][\"data\"][j]\n",
    "        tweet.append(text)\n",
    "print(f\"The tweet is:\",tweet[0][\"text\"])\n",
    "print(f\"Public metrics of the tweet:\",tweet[0][\"public_metrics\"])\n",
    "print(len(tweet))"
   ]
  },
  {
   "cell_type": "code",
   "execution_count": 202,
   "metadata": {},
   "outputs": [
    {
     "name": "stdout",
     "output_type": "stream",
     "text": [
      "(37214, 8)\n"
     ]
    },
    {
     "data": {
      "text/html": [
       "<div>\n",
       "<style scoped>\n",
       "    .dataframe tbody tr th:only-of-type {\n",
       "        vertical-align: middle;\n",
       "    }\n",
       "\n",
       "    .dataframe tbody tr th {\n",
       "        vertical-align: top;\n",
       "    }\n",
       "\n",
       "    .dataframe thead th {\n",
       "        text-align: right;\n",
       "    }\n",
       "</style>\n",
       "<table border=\"1\" class=\"dataframe\">\n",
       "  <thead>\n",
       "    <tr style=\"text-align: right;\">\n",
       "      <th></th>\n",
       "      <th>content</th>\n",
       "      <th>language</th>\n",
       "      <th>retweet_count</th>\n",
       "      <th>reply_count</th>\n",
       "      <th>like_count</th>\n",
       "      <th>quote_count</th>\n",
       "      <th>impression_count</th>\n",
       "      <th>engagement_rate</th>\n",
       "    </tr>\n",
       "  </thead>\n",
       "  <tbody>\n",
       "    <tr>\n",
       "      <th>0</th>\n",
       "      <td>@mikapleskinen @pizzahut Hi Mika!\\n\\nMy apolog...</td>\n",
       "      <td>en</td>\n",
       "      <td>0.0</td>\n",
       "      <td>0.0</td>\n",
       "      <td>0.0</td>\n",
       "      <td>0.0</td>\n",
       "      <td>31.0</td>\n",
       "      <td>0.000000</td>\n",
       "    </tr>\n",
       "    <tr>\n",
       "      <th>1</th>\n",
       "      <td>@Samikohanse @Samikohanse Moikka Sami! Ikävä k...</td>\n",
       "      <td>fi</td>\n",
       "      <td>0.0</td>\n",
       "      <td>1.0</td>\n",
       "      <td>1.0</td>\n",
       "      <td>0.0</td>\n",
       "      <td>15.0</td>\n",
       "      <td>0.133333</td>\n",
       "    </tr>\n",
       "    <tr>\n",
       "      <th>2</th>\n",
       "      <td>@Saralye @Saralye Hello there! Thanks for cont...</td>\n",
       "      <td>en</td>\n",
       "      <td>0.0</td>\n",
       "      <td>0.0</td>\n",
       "      <td>0.0</td>\n",
       "      <td>0.0</td>\n",
       "      <td>10.0</td>\n",
       "      <td>0.000000</td>\n",
       "    </tr>\n",
       "    <tr>\n",
       "      <th>3</th>\n",
       "      <td>@markuslindqv @markuslindqv Moi Markus! Kiitos...</td>\n",
       "      <td>fi</td>\n",
       "      <td>0.0</td>\n",
       "      <td>0.0</td>\n",
       "      <td>0.0</td>\n",
       "      <td>0.0</td>\n",
       "      <td>21.0</td>\n",
       "      <td>0.000000</td>\n",
       "    </tr>\n",
       "    <tr>\n",
       "      <th>4</th>\n",
       "      <td>@fldu_ Hi Florian! \\nHuge apologies that your ...</td>\n",
       "      <td>en</td>\n",
       "      <td>0.0</td>\n",
       "      <td>0.0</td>\n",
       "      <td>0.0</td>\n",
       "      <td>0.0</td>\n",
       "      <td>25.0</td>\n",
       "      <td>0.000000</td>\n",
       "    </tr>\n",
       "  </tbody>\n",
       "</table>\n",
       "</div>"
      ],
      "text/plain": [
       "                                             content language  retweet_count   \n",
       "0  @mikapleskinen @pizzahut Hi Mika!\\n\\nMy apolog...       en            0.0  \\\n",
       "1  @Samikohanse @Samikohanse Moikka Sami! Ikävä k...       fi            0.0   \n",
       "2  @Saralye @Saralye Hello there! Thanks for cont...       en            0.0   \n",
       "3  @markuslindqv @markuslindqv Moi Markus! Kiitos...       fi            0.0   \n",
       "4  @fldu_ Hi Florian! \\nHuge apologies that your ...       en            0.0   \n",
       "\n",
       "   reply_count  like_count  quote_count  impression_count  engagement_rate  \n",
       "0          0.0         0.0          0.0              31.0         0.000000  \n",
       "1          1.0         1.0          0.0              15.0         0.133333  \n",
       "2          0.0         0.0          0.0              10.0         0.000000  \n",
       "3          0.0         0.0          0.0              21.0         0.000000  \n",
       "4          0.0         0.0          0.0              25.0         0.000000  "
      ]
     },
     "execution_count": 202,
     "metadata": {},
     "output_type": "execute_result"
    }
   ],
   "source": [
    "wolt_df = []\n",
    "for i in range(0,len(tweet)):\n",
    "    text = tweet[i][\"text\"]\n",
    "    wolt_df.append(text)\n",
    "\n",
    "wolt_df = pd.DataFrame(wolt_df, columns = ['content'])\n",
    "\n",
    "for i in range(0,len(wolt_df)):\n",
    "    wolt_df.loc[i,'language'] = tweet[i][\"lang\"]\n",
    "    metrics = tweet[i][\"public_metrics\"]\n",
    "    wolt_df.loc[i,'retweet_count'] = metrics[\"retweet_count\"]\n",
    "    wolt_df.loc[i,'reply_count'] = metrics[\"reply_count\"]\n",
    "    wolt_df.loc[i,'like_count'] = metrics[\"like_count\"]\n",
    "    wolt_df.loc[i,'quote_count'] = metrics[\"quote_count\"]\n",
    "    wolt_df.loc[i,'impression_count'] = metrics[\"impression_count\"]\n",
    "    # Calculate engagement rate\n",
    "    try: \n",
    "        wolt_df.loc[i,'engagement_rate'] = (metrics[\"retweet_count\"] + metrics[\"reply_count\"] + metrics[\"like_count\"] + metrics[\"quote_count\"])/metrics[\"impression_count\"]\n",
    "    except ZeroDivisionError:\n",
    "        wolt_df.loc[i,'engagement_rate'] = 0\n",
    "wolt_df.drop_duplicates(subset =\"content\", keep = 'first', inplace = True)  \n",
    "print(wolt_df.shape)\n",
    "wolt_df.head()\n"
   ]
  },
  {
   "cell_type": "code",
   "execution_count": 203,
   "metadata": {},
   "outputs": [],
   "source": [
    "\n",
    "#wolt_df.to_csv('data/training_data.csv', index=False)\n",
    "wolt_df.to_excel('data/training_data.xlsx', index=False)"
   ]
  }
 ],
 "metadata": {
  "kernelspec": {
   "display_name": "Python 3",
   "language": "python",
   "name": "python3"
  },
  "language_info": {
   "codemirror_mode": {
    "name": "ipython",
    "version": 3
   },
   "file_extension": ".py",
   "mimetype": "text/x-python",
   "name": "python",
   "nbconvert_exporter": "python",
   "pygments_lexer": "ipython3",
   "version": "3.10.9"
  },
  "orig_nbformat": 4
 },
 "nbformat": 4,
 "nbformat_minor": 2
}
